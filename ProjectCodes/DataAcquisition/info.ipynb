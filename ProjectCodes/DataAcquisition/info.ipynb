{
 "cells": [
  {
   "cell_type": "code",
   "execution_count": 1,
   "metadata": {
    "collapsed": false,
    "deletable": true,
    "editable": true,
    "scrolled": true
   },
   "outputs": [
    {
     "name": "stderr",
     "output_type": "stream",
     "text": [
      "Using TensorFlow backend.\n"
     ]
    }
   ],
   "source": [
    "import requests\n",
    "import json\n",
    "import time\n",
    "import itertools\n",
    "import wget\n",
    "import os\n",
    "import pickle\n",
    "import numpy as np\n",
    "import tmdbsimple as tmdb\n",
    "import imdb\n",
    "import time\n",
    "import sys\n",
    "\n",
    "import random\n",
    "import matplotlib\n",
    "import matplotlib.pyplot as plt\n",
    "%matplotlib inline\n",
    "\n",
    "import seaborn as sns\n",
    "from sklearn.cluster.bicluster import SpectralCoclustering\n",
    "from sklearn.metrics import precision_recall_curve\n",
    "import scipy\n",
    "\n",
    "sns.set_style('white')\n",
    "import tensorflow as tf\n",
    "import pandas as pd\n",
    "import keras\n",
    "from imdb import IMDb\n",
    "from keras.models import Sequential\n",
    "from keras.layers import Dense,Dropout,Flatten\n",
    "from keras.layers import Conv2D, MaxPooling2D\n",
    "from keras import backend as k\n",
    "from keras.models import load_model"
   ]
  },
  {
   "cell_type": "markdown",
   "metadata": {},
   "source": [
    "\n",
    "\n",
    "<br>\n",
    "Code to acquire the movie ID that satisfies twoconditions:\n",
    "\n",
    " - It has an IMDB ID number\n",
    " - It is not an adult movie\n",
    " \n",
    "<br>"
   ]
  },
  {
   "cell_type": "code",
   "execution_count": 4,
   "metadata": {
    "collapsed": false,
    "deletable": true,
    "editable": true
   },
   "outputs": [
    {
     "name": "stdout",
     "output_type": "stream",
     "text": [
      " Step: 30000  acquired: 13627"
     ]
    },
    {
     "ename": "KeyboardInterrupt",
     "evalue": "",
     "output_type": "error",
     "traceback": [
      "\u001b[0;31m---------------------------------------------------------------------------\u001b[0m",
      "\u001b[0;31mKeyboardInterrupt\u001b[0m                         Traceback (most recent call last)",
      "\u001b[0;32m<ipython-input-4-e437bf6423e1>\u001b[0m in \u001b[0;36m<module>\u001b[0;34m()\u001b[0m\n\u001b[1;32m     30\u001b[0m \u001b[0;34m\u001b[0m\u001b[0m\n\u001b[1;32m     31\u001b[0m \u001b[0;34m\u001b[0m\u001b[0m\n\u001b[0;32m---> 32\u001b[0;31m     \u001b[0mtime\u001b[0m\u001b[0;34m.\u001b[0m\u001b[0msleep\u001b[0m\u001b[0;34m(\u001b[0m\u001b[0;36m0.5\u001b[0m\u001b[0;34m)\u001b[0m\u001b[0;34m\u001b[0m\u001b[0m\n\u001b[0m\u001b[1;32m     33\u001b[0m \u001b[0;34m\u001b[0m\u001b[0m\n\u001b[1;32m     34\u001b[0m     \u001b[0msys\u001b[0m\u001b[0;34m.\u001b[0m\u001b[0mstdout\u001b[0m\u001b[0;34m.\u001b[0m\u001b[0mflush\u001b[0m\u001b[0;34m(\u001b[0m\u001b[0;34m)\u001b[0m\u001b[0;34m\u001b[0m\u001b[0m\n",
      "\u001b[0;31mKeyboardInterrupt\u001b[0m: "
     ]
    }
   ],
   "source": [
    "# Compose URL with key\n",
    "url1 = \"https://api.themoviedb.org/3/movie/\"\n",
    "url2 = \"?api_key=95b208af4c92eb1ddd5c831f91c84e15&language=en-US\"\n",
    "\n",
    "# initiate the IMDB and The TMDB ID lists\n",
    "imdb  = []\n",
    "tmdb  = []\n",
    "\n",
    "# Counter\n",
    "a = 0\n",
    "\n",
    "# Loop for iterration for a specified number range\n",
    "for i in range(10000,121001):\n",
    "    \n",
    "    # Compose the URL\n",
    "    url = url1 + str(i) + url2\n",
    "    \n",
    "    # Send the request\n",
    "    r = requests.get(url)    \n",
    "    \n",
    "    # Check the conditions\n",
    "    try:\n",
    "        dat = json.loads(r.text)\n",
    "        \n",
    "        if not dat['adult']:\n",
    "            \n",
    "            tmdb.append(dat['id'])\n",
    "            imdb.append(dat['imdb_id'])\n",
    "            a += 1\n",
    "            \n",
    "        else :\n",
    "            a += 0\n",
    "    # Handle error    \n",
    "    except KeyError as e:\n",
    "        \n",
    "        # Update counter\n",
    "        a += 0\n",
    "            \n",
    "    # Sleeop time \n",
    "    time.sleep(0.5)\n",
    "    \n",
    "    \n",
    "    # Display status\n",
    "    sys.stdout.flush()\n",
    "\n",
    "    sys.stdout.write(\"\\r Step: {}  acquired: {}\".format(i, a))"
   ]
  }
 ],
 "metadata": {
  "kernelspec": {
   "display_name": "Python [default]",
   "language": "python",
   "name": "python2"
  },
  "language_info": {
   "codemirror_mode": {
    "name": "ipython",
    "version": 2
   },
   "file_extension": ".py",
   "mimetype": "text/x-python",
   "name": "python",
   "nbconvert_exporter": "python",
   "pygments_lexer": "ipython2",
   "version": "2.7.12"
  }
 },
 "nbformat": 4,
 "nbformat_minor": 2
}
