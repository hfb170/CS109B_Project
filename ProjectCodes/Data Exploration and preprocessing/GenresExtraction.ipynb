{
 "cells": [
  {
   "cell_type": "markdown",
   "metadata": {
    "deletable": true,
    "editable": true
   },
   "source": [
    "# Genres Extracion Code Code\n",
    "\n",
    "<br>\n",
    "This code extracts the genres from the acquired metadata and construct an encoded array for the applicable genres for each movi. No furthr hot key encoding is needed for further work\n",
    "\n",
    "\n",
    "\n",
    "\n",
    "<br>"
   ]
  },
  {
   "cell_type": "markdown",
   "metadata": {
    "deletable": true,
    "editable": true
   },
   "source": [
    "### Importing Modules\n",
    "\n",
    "\n",
    "<br>"
   ]
  },
  {
   "cell_type": "code",
   "execution_count": 1,
   "metadata": {
    "collapsed": false,
    "deletable": true,
    "editable": true,
    "scrolled": true
   },
   "outputs": [],
   "source": [
    "import requests\n",
    "import json\n",
    "import time\n",
    "import itertools\n",
    "import wget\n",
    "import os\n",
    "import png\n",
    "import pickle\n",
    "import numpy as np\n",
    "import tmdbsimple as tmdb\n",
    "import imdb\n",
    "import time\n",
    "import sys\n",
    "import urllib\n",
    "from PIL import Image\n",
    "\n",
    "import random\n",
    "import matplotlib\n",
    "import matplotlib.pyplot as plt\n",
    "%matplotlib inline\n",
    "\n",
    "import seaborn as sns\n",
    "from sklearn.cluster.bicluster import SpectralCoclustering\n",
    "from sklearn.metrics import precision_recall_curve\n",
    "import scipy\n",
    "\n",
    "sns.set_style('white')\n",
    "import tensorflow as tf\n",
    "import pandas as pd\n",
    "from imdb import IMDb\n",
    "import ast"
   ]
  },
  {
   "cell_type": "markdown",
   "metadata": {
    "deletable": true,
    "editable": true
   },
   "source": [
    "### Importing Files and Genres List\n",
    "\n",
    "<br>"
   ]
  },
  {
   "cell_type": "code",
   "execution_count": 2,
   "metadata": {
    "collapsed": false,
    "deletable": true,
    "editable": true
   },
   "outputs": [
    {
     "data": {
      "text/plain": [
       "array([\"[{u'id': 80, u'name': u'Crime'}]\",\n",
       "       \"[{u'id': 18, u'name': u'Drama'}, {u'id': 27, u'name': u'Horror'}, {u'id': 53, u'name': u'Thriller'}]\",\n",
       "       \"[{u'id': 35, u'name': u'Comedy'}, {u'id': 10749, u'name': u'Romance'}]\",\n",
       "       \"[{u'id': 27, u'name': u'Horror'}]\",\n",
       "       \"[{u'id': 35, u'name': u'Comedy'}]\"], dtype=object)"
      ]
     },
     "execution_count": 2,
     "metadata": {},
     "output_type": "execute_result"
    }
   ],
   "source": [
    "# Importing Data file\n",
    "genres_raw = pd.read_csv('Data.csv').genres.values\n",
    "\n",
    "# Importing Genres List\n",
    "gen_list = pd.read_csv('genres_TMDB.csv')\n",
    "\n",
    "# Printing a sample data\n",
    "genres_raw[:5]"
   ]
  },
  {
   "cell_type": "code",
   "execution_count": 3,
   "metadata": {
    "collapsed": false,
    "deletable": true,
    "editable": true
   },
   "outputs": [
    {
     "data": {
      "text/html": [
       "<div>\n",
       "<table border=\"1\" class=\"dataframe\">\n",
       "  <thead>\n",
       "    <tr style=\"text-align: right;\">\n",
       "      <th></th>\n",
       "      <th>Unnamed: 0</th>\n",
       "      <th>0</th>\n",
       "    </tr>\n",
       "  </thead>\n",
       "  <tbody>\n",
       "    <tr>\n",
       "      <th>0</th>\n",
       "      <td>0</td>\n",
       "      <td>Action</td>\n",
       "    </tr>\n",
       "    <tr>\n",
       "      <th>1</th>\n",
       "      <td>1</td>\n",
       "      <td>Adventure</td>\n",
       "    </tr>\n",
       "    <tr>\n",
       "      <th>2</th>\n",
       "      <td>2</td>\n",
       "      <td>Animation</td>\n",
       "    </tr>\n",
       "    <tr>\n",
       "      <th>3</th>\n",
       "      <td>3</td>\n",
       "      <td>Comedy</td>\n",
       "    </tr>\n",
       "    <tr>\n",
       "      <th>4</th>\n",
       "      <td>4</td>\n",
       "      <td>Crime</td>\n",
       "    </tr>\n",
       "    <tr>\n",
       "      <th>5</th>\n",
       "      <td>5</td>\n",
       "      <td>Documentary</td>\n",
       "    </tr>\n",
       "    <tr>\n",
       "      <th>6</th>\n",
       "      <td>6</td>\n",
       "      <td>Drama</td>\n",
       "    </tr>\n",
       "    <tr>\n",
       "      <th>7</th>\n",
       "      <td>7</td>\n",
       "      <td>Family</td>\n",
       "    </tr>\n",
       "    <tr>\n",
       "      <th>8</th>\n",
       "      <td>8</td>\n",
       "      <td>Fantasy</td>\n",
       "    </tr>\n",
       "    <tr>\n",
       "      <th>9</th>\n",
       "      <td>9</td>\n",
       "      <td>History</td>\n",
       "    </tr>\n",
       "    <tr>\n",
       "      <th>10</th>\n",
       "      <td>10</td>\n",
       "      <td>Horror</td>\n",
       "    </tr>\n",
       "    <tr>\n",
       "      <th>11</th>\n",
       "      <td>11</td>\n",
       "      <td>Music</td>\n",
       "    </tr>\n",
       "    <tr>\n",
       "      <th>12</th>\n",
       "      <td>12</td>\n",
       "      <td>Mystery</td>\n",
       "    </tr>\n",
       "    <tr>\n",
       "      <th>13</th>\n",
       "      <td>13</td>\n",
       "      <td>Romance</td>\n",
       "    </tr>\n",
       "    <tr>\n",
       "      <th>14</th>\n",
       "      <td>14</td>\n",
       "      <td>Science Fiction</td>\n",
       "    </tr>\n",
       "    <tr>\n",
       "      <th>15</th>\n",
       "      <td>15</td>\n",
       "      <td>TV Movie</td>\n",
       "    </tr>\n",
       "    <tr>\n",
       "      <th>16</th>\n",
       "      <td>16</td>\n",
       "      <td>Thriller</td>\n",
       "    </tr>\n",
       "    <tr>\n",
       "      <th>17</th>\n",
       "      <td>17</td>\n",
       "      <td>War</td>\n",
       "    </tr>\n",
       "    <tr>\n",
       "      <th>18</th>\n",
       "      <td>18</td>\n",
       "      <td>Western</td>\n",
       "    </tr>\n",
       "  </tbody>\n",
       "</table>\n",
       "</div>"
      ],
      "text/plain": [
       "    Unnamed: 0                0\n",
       "0            0           Action\n",
       "1            1        Adventure\n",
       "2            2        Animation\n",
       "3            3           Comedy\n",
       "4            4            Crime\n",
       "5            5      Documentary\n",
       "6            6            Drama\n",
       "7            7           Family\n",
       "8            8          Fantasy\n",
       "9            9          History\n",
       "10          10           Horror\n",
       "11          11            Music\n",
       "12          12          Mystery\n",
       "13          13          Romance\n",
       "14          14  Science Fiction\n",
       "15          15         TV Movie\n",
       "16          16         Thriller\n",
       "17          17              War\n",
       "18          18          Western"
      ]
     },
     "execution_count": 3,
     "metadata": {},
     "output_type": "execute_result"
    }
   ],
   "source": [
    "gen_list"
   ]
  },
  {
   "cell_type": "markdown",
   "metadata": {
    "deletable": true,
    "editable": true
   },
   "source": [
    "\n",
    "<br>\n",
    "### Constructing the Genres List\n",
    "\n",
    "\n",
    "<br>"
   ]
  },
  {
   "cell_type": "code",
   "execution_count": 4,
   "metadata": {
    "collapsed": false,
    "deletable": true,
    "editable": true
   },
   "outputs": [],
   "source": [
    "# Specify the length of the data\n",
    "Len = len(genres_raw)\n",
    "\n",
    "# Initiate the \"genreslist\"\n",
    "genreslist = []\n",
    "\n",
    "# Iterrate over the whole data length\n",
    "for i in range (Len):\n",
    "    \n",
    "    # Extract the genres of the movie\n",
    "    mvgenre = ast.literal_eval(genres_raw[i])\n",
    "    \n",
    "    \n",
    "\n",
    "    # intitate a movie genres list\n",
    "    moviegenres = []\n",
    "    \n",
    "    # itterrate over the length of the genres\n",
    "    for j in range(len(mvgenre)):\n",
    "        \n",
    "        # Get the genre name    \n",
    "        g = mvgenre[j]['name'].encode('utf' , 'strict')\n",
    "            \n",
    "        # Append\n",
    "        moviegenres.append(g)\n",
    "    \n",
    "    # Append to the genres list\n",
    "    genreslist.append(moviegenres)\n"
   ]
  },
  {
   "cell_type": "code",
   "execution_count": 5,
   "metadata": {
    "collapsed": false,
    "deletable": true,
    "editable": true
   },
   "outputs": [
    {
     "data": {
      "text/plain": [
       "[['Crime'],\n",
       " ['Drama', 'Horror', 'Thriller'],\n",
       " ['Comedy', 'Romance'],\n",
       " ['Horror'],\n",
       " ['Comedy'],\n",
       " ['Animation', 'Comedy', 'Thriller', 'Family'],\n",
       " ['Comedy', 'Family', 'Animation', 'Fantasy', 'Music'],\n",
       " ['Documentary', 'History'],\n",
       " ['Action', 'Western'],\n",
       " ['Drama']]"
      ]
     },
     "execution_count": 5,
     "metadata": {},
     "output_type": "execute_result"
    }
   ],
   "source": [
    "genreslist[:10]"
   ]
  },
  {
   "cell_type": "markdown",
   "metadata": {
    "deletable": true,
    "editable": true
   },
   "source": [
    "\n",
    "\n",
    "<br>\n",
    "### Constructing the Labels Array\n",
    "\n",
    "\n",
    "<br>\n",
    "An array that includes a binary flag for each of the genres \n",
    "\n",
    "<br>"
   ]
  },
  {
   "cell_type": "code",
   "execution_count": 7,
   "metadata": {
    "collapsed": false,
    "deletable": true,
    "editable": true
   },
   "outputs": [
    {
     "name": "stdout",
     "output_type": "stream",
     "text": [
      " Step: 9987 "
     ]
    }
   ],
   "source": [
    "# Construct the genres Matrix:\n",
    "# -----------------------------\n",
    "\n",
    "# Acquire the shape of the Genres Array\n",
    "shape_genre = gen_list.shape\n",
    "\n",
    "# Intitate a multilabel array\n",
    "Genres = np.zeros((Len , shape_genre[0]))\n",
    "\n",
    "# Iterating for each movie\n",
    "for i in range(Len):\n",
    "    \n",
    "    # Extract the list of genres dictionaries\n",
    "    genr = genreslist[i]\n",
    "    \n",
    "    # Define the length of the labels\n",
    "    Leng = len(genr)\n",
    "    \n",
    "    # Considering the top 3 genres\n",
    "    if Leng >= 3:\n",
    "        \n",
    "        # Stop at the third\n",
    "        Stop = 3\n",
    "    \n",
    "    # If shorter - take all\n",
    "    else:\n",
    "        \n",
    "        Stop = Leng\n",
    "    \n",
    "    # iterrate over each dictionary of the dictionaries list\n",
    "    for j in range(Stop):\n",
    "        \n",
    "        # Extract the movie genre name\n",
    "        gename = genr[j]\n",
    "        \n",
    "        # Compare it to the list\n",
    "        for k in range(shape_genre[0]):\n",
    "            \n",
    "            # Change labe if there is a match\n",
    "            if gename == gen_list.iloc[k,1]:\n",
    "                \n",
    "                Genres[i,k] = 1\n",
    "\n",
    "    sys.stdout.flush()\n",
    "    sys.stdout.write(\"\\r Step: {} \".format(i))"
   ]
  },
  {
   "cell_type": "code",
   "execution_count": 8,
   "metadata": {
    "collapsed": false,
    "deletable": true,
    "editable": true
   },
   "outputs": [
    {
     "data": {
      "text/html": [
       "<div>\n",
       "<table border=\"1\" class=\"dataframe\">\n",
       "  <thead>\n",
       "    <tr style=\"text-align: right;\">\n",
       "      <th></th>\n",
       "      <th>Action</th>\n",
       "      <th>Adventure</th>\n",
       "      <th>Animation</th>\n",
       "      <th>Comedy</th>\n",
       "      <th>Crime</th>\n",
       "      <th>Documentary</th>\n",
       "      <th>Drama</th>\n",
       "      <th>Family</th>\n",
       "      <th>Fantasy</th>\n",
       "      <th>History</th>\n",
       "      <th>Horror</th>\n",
       "      <th>Music</th>\n",
       "      <th>Mystery</th>\n",
       "      <th>Romance</th>\n",
       "      <th>Science Fiction</th>\n",
       "      <th>TV Movie</th>\n",
       "      <th>Thriller</th>\n",
       "      <th>War</th>\n",
       "      <th>Western</th>\n",
       "      <th>ID</th>\n",
       "    </tr>\n",
       "  </thead>\n",
       "  <tbody>\n",
       "    <tr>\n",
       "      <th>0</th>\n",
       "      <td>0.0</td>\n",
       "      <td>0.0</td>\n",
       "      <td>0.0</td>\n",
       "      <td>0.0</td>\n",
       "      <td>1.0</td>\n",
       "      <td>0.0</td>\n",
       "      <td>0.0</td>\n",
       "      <td>0.0</td>\n",
       "      <td>0.0</td>\n",
       "      <td>0.0</td>\n",
       "      <td>0.0</td>\n",
       "      <td>0.0</td>\n",
       "      <td>0.0</td>\n",
       "      <td>0.0</td>\n",
       "      <td>0.0</td>\n",
       "      <td>0.0</td>\n",
       "      <td>0.0</td>\n",
       "      <td>0.0</td>\n",
       "      <td>0.0</td>\n",
       "      <td>22924</td>\n",
       "    </tr>\n",
       "    <tr>\n",
       "      <th>1</th>\n",
       "      <td>0.0</td>\n",
       "      <td>0.0</td>\n",
       "      <td>0.0</td>\n",
       "      <td>0.0</td>\n",
       "      <td>0.0</td>\n",
       "      <td>0.0</td>\n",
       "      <td>1.0</td>\n",
       "      <td>0.0</td>\n",
       "      <td>0.0</td>\n",
       "      <td>0.0</td>\n",
       "      <td>1.0</td>\n",
       "      <td>0.0</td>\n",
       "      <td>0.0</td>\n",
       "      <td>0.0</td>\n",
       "      <td>0.0</td>\n",
       "      <td>0.0</td>\n",
       "      <td>1.0</td>\n",
       "      <td>0.0</td>\n",
       "      <td>0.0</td>\n",
       "      <td>14223</td>\n",
       "    </tr>\n",
       "    <tr>\n",
       "      <th>2</th>\n",
       "      <td>0.0</td>\n",
       "      <td>0.0</td>\n",
       "      <td>0.0</td>\n",
       "      <td>1.0</td>\n",
       "      <td>0.0</td>\n",
       "      <td>0.0</td>\n",
       "      <td>0.0</td>\n",
       "      <td>0.0</td>\n",
       "      <td>0.0</td>\n",
       "      <td>0.0</td>\n",
       "      <td>0.0</td>\n",
       "      <td>0.0</td>\n",
       "      <td>0.0</td>\n",
       "      <td>1.0</td>\n",
       "      <td>0.0</td>\n",
       "      <td>0.0</td>\n",
       "      <td>0.0</td>\n",
       "      <td>0.0</td>\n",
       "      <td>0.0</td>\n",
       "      <td>18307</td>\n",
       "    </tr>\n",
       "    <tr>\n",
       "      <th>3</th>\n",
       "      <td>0.0</td>\n",
       "      <td>0.0</td>\n",
       "      <td>0.0</td>\n",
       "      <td>0.0</td>\n",
       "      <td>0.0</td>\n",
       "      <td>0.0</td>\n",
       "      <td>0.0</td>\n",
       "      <td>0.0</td>\n",
       "      <td>0.0</td>\n",
       "      <td>0.0</td>\n",
       "      <td>1.0</td>\n",
       "      <td>0.0</td>\n",
       "      <td>0.0</td>\n",
       "      <td>0.0</td>\n",
       "      <td>0.0</td>\n",
       "      <td>0.0</td>\n",
       "      <td>0.0</td>\n",
       "      <td>0.0</td>\n",
       "      <td>0.0</td>\n",
       "      <td>27420</td>\n",
       "    </tr>\n",
       "    <tr>\n",
       "      <th>4</th>\n",
       "      <td>0.0</td>\n",
       "      <td>0.0</td>\n",
       "      <td>0.0</td>\n",
       "      <td>1.0</td>\n",
       "      <td>0.0</td>\n",
       "      <td>0.0</td>\n",
       "      <td>0.0</td>\n",
       "      <td>0.0</td>\n",
       "      <td>0.0</td>\n",
       "      <td>0.0</td>\n",
       "      <td>0.0</td>\n",
       "      <td>0.0</td>\n",
       "      <td>0.0</td>\n",
       "      <td>0.0</td>\n",
       "      <td>0.0</td>\n",
       "      <td>0.0</td>\n",
       "      <td>0.0</td>\n",
       "      <td>0.0</td>\n",
       "      <td>0.0</td>\n",
       "      <td>19157</td>\n",
       "    </tr>\n",
       "  </tbody>\n",
       "</table>\n",
       "</div>"
      ],
      "text/plain": [
       "   Action  Adventure  Animation  Comedy  Crime  Documentary  Drama  Family  \\\n",
       "0     0.0        0.0        0.0     0.0    1.0          0.0    0.0     0.0   \n",
       "1     0.0        0.0        0.0     0.0    0.0          0.0    1.0     0.0   \n",
       "2     0.0        0.0        0.0     1.0    0.0          0.0    0.0     0.0   \n",
       "3     0.0        0.0        0.0     0.0    0.0          0.0    0.0     0.0   \n",
       "4     0.0        0.0        0.0     1.0    0.0          0.0    0.0     0.0   \n",
       "\n",
       "   Fantasy  History  Horror  Music  Mystery  Romance  Science Fiction  \\\n",
       "0      0.0      0.0     0.0    0.0      0.0      0.0              0.0   \n",
       "1      0.0      0.0     1.0    0.0      0.0      0.0              0.0   \n",
       "2      0.0      0.0     0.0    0.0      0.0      1.0              0.0   \n",
       "3      0.0      0.0     1.0    0.0      0.0      0.0              0.0   \n",
       "4      0.0      0.0     0.0    0.0      0.0      0.0              0.0   \n",
       "\n",
       "   TV Movie  Thriller  War  Western     ID  \n",
       "0       0.0       0.0  0.0      0.0  22924  \n",
       "1       0.0       1.0  0.0      0.0  14223  \n",
       "2       0.0       0.0  0.0      0.0  18307  \n",
       "3       0.0       0.0  0.0      0.0  27420  \n",
       "4       0.0       0.0  0.0      0.0  19157  "
      ]
     },
     "execution_count": 8,
     "metadata": {},
     "output_type": "execute_result"
    }
   ],
   "source": [
    "# Construct the data frame:\n",
    "# ------------------------\n",
    "\n",
    "# Genres Data Frame\n",
    "Genresdf = pd.DataFrame(Genres , columns = gen_list.iloc[:,1].values)\n",
    "\n",
    "# Ids Array\n",
    "Idarray = np.array(pd.read_csv('Data.csv').id.values)\n",
    "\n",
    "# Ids Data Frame\n",
    "Idframe = pd.DataFrame(Idarray , columns = ['ID'])\n",
    "\n",
    "# Concatenate the arrays\n",
    "GenresAll = pd.concat([Genresdf , Idframe] , 1)\n",
    "\n",
    "GenresAll.head()"
   ]
  },
  {
   "cell_type": "markdown",
   "metadata": {
    "deletable": true,
    "editable": true
   },
   "source": [
    "\n",
    "\n",
    "<br>\n",
    "\n",
    "### Exporting the Data to csv Files\n",
    "\n",
    "\n",
    "<br>\n"
   ]
  },
  {
   "cell_type": "code",
   "execution_count": 9,
   "metadata": {
    "collapsed": true,
    "deletable": true,
    "editable": true
   },
   "outputs": [],
   "source": [
    "GenresAll.to_csv('Genres_labels_All_Top3.csv')"
   ]
  },
  {
   "cell_type": "code",
   "execution_count": null,
   "metadata": {
    "collapsed": true,
    "deletable": true,
    "editable": true
   },
   "outputs": [],
   "source": []
  }
 ],
 "metadata": {
  "kernelspec": {
   "display_name": "Python [default]",
   "language": "python",
   "name": "python2"
  },
  "language_info": {
   "codemirror_mode": {
    "name": "ipython",
    "version": 2
   },
   "file_extension": ".py",
   "mimetype": "text/x-python",
   "name": "python",
   "nbconvert_exporter": "python",
   "pygments_lexer": "ipython2",
   "version": "2.7.12"
  }
 },
 "nbformat": 4,
 "nbformat_minor": 2
}
