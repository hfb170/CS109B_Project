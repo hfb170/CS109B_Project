{
 "cells": [
  {
   "cell_type": "markdown",
   "metadata": {
    "deletable": true,
    "editable": true
   },
   "source": [
    "# Posters Data Transformation \n",
    "\n",
    "\n",
    "\n",
    "<br>\n",
    "This file is for pre-processing the images into numeric structures and dump them into a pickle file to be transfered to the Amazon platform for Deep Learning Application\n",
    "\n",
    "\n",
    "<br>"
   ]
  },
  {
   "cell_type": "code",
   "execution_count": 1,
   "metadata": {
    "collapsed": false,
    "deletable": true,
    "editable": true,
    "scrolled": true
   },
   "outputs": [],
   "source": [
    "\n",
    "import time\n",
    "import itertools\n",
    "import wget\n",
    "import os\n",
    "import png\n",
    "import pickle\n",
    "import numpy as np\n",
    "import tmdbsimple as tmdb\n",
    "import time\n",
    "import sys\n",
    "from PIL import Image , ImageFile\n",
    "\n",
    "import random\n",
    "import matplotlib\n",
    "import matplotlib.pyplot as plt\n",
    "%matplotlib inline\n",
    "\n",
    "import seaborn as sns\n",
    "from sklearn.cluster.bicluster import SpectralCoclustering\n",
    "from sklearn.metrics import precision_recall_curve\n",
    "import scipy as sp\n",
    "\n",
    "sns.set_style('white')\n",
    "import pandas as pd\n"
   ]
  },
  {
   "cell_type": "markdown",
   "metadata": {
    "deletable": true,
    "editable": true
   },
   "source": [
    "### Read Files"
   ]
  },
  {
   "cell_type": "markdown",
   "metadata": {
    "deletable": true,
    "editable": true
   },
   "source": [
    "### Acquiring Data:\n",
    "\n",
    "\n",
    "<br>"
   ]
  },
  {
   "cell_type": "markdown",
   "metadata": {
    "deletable": true,
    "editable": true
   },
   "source": [
    "#### 1- Loading Files\n",
    "\n",
    "\n",
    "<br>"
   ]
  },
  {
   "cell_type": "code",
   "execution_count": 2,
   "metadata": {
    "collapsed": false,
    "deletable": true,
    "editable": true
   },
   "outputs": [
    {
     "data": {
      "text/html": [
       "<div>\n",
       "<table border=\"1\" class=\"dataframe\">\n",
       "  <thead>\n",
       "    <tr style=\"text-align: right;\">\n",
       "      <th></th>\n",
       "      <th>Unnamed: 0</th>\n",
       "      <th>FileName</th>\n",
       "      <th>FilmId</th>\n",
       "    </tr>\n",
       "  </thead>\n",
       "  <tbody>\n",
       "    <tr>\n",
       "      <th>0</th>\n",
       "      <td>0</td>\n",
       "      <td>./posters/22924.jpg</td>\n",
       "      <td>22924</td>\n",
       "    </tr>\n",
       "    <tr>\n",
       "      <th>1</th>\n",
       "      <td>1</td>\n",
       "      <td>./posters/14223.jpg</td>\n",
       "      <td>14223</td>\n",
       "    </tr>\n",
       "    <tr>\n",
       "      <th>2</th>\n",
       "      <td>2</td>\n",
       "      <td>./posters/18307.jpg</td>\n",
       "      <td>18307</td>\n",
       "    </tr>\n",
       "    <tr>\n",
       "      <th>3</th>\n",
       "      <td>3</td>\n",
       "      <td>./posters/27420.jpg</td>\n",
       "      <td>27420</td>\n",
       "    </tr>\n",
       "    <tr>\n",
       "      <th>4</th>\n",
       "      <td>4</td>\n",
       "      <td>./posters/19157.jpg</td>\n",
       "      <td>19157</td>\n",
       "    </tr>\n",
       "  </tbody>\n",
       "</table>\n",
       "</div>"
      ],
      "text/plain": [
       "   Unnamed: 0             FileName  FilmId\n",
       "0           0  ./posters/22924.jpg   22924\n",
       "1           1  ./posters/14223.jpg   14223\n",
       "2           2  ./posters/18307.jpg   18307\n",
       "3           3  ./posters/27420.jpg   27420\n",
       "4           4  ./posters/19157.jpg   19157"
      ]
     },
     "execution_count": 2,
     "metadata": {},
     "output_type": "execute_result"
    }
   ],
   "source": [
    "# Reading labels\n",
    "Labels = pd.read_csv('Genres_labels_All.csv')\n",
    "\n",
    "# Reading Poster File\n",
    "PostList = pd.read_csv('PostersList_ALL.csv')\n",
    "\n",
    "# Display a sample\n",
    "PostList.head()"
   ]
  },
  {
   "cell_type": "markdown",
   "metadata": {
    "deletable": true,
    "editable": true
   },
   "source": [
    "#### 2- Transforming the Data\n",
    "\n",
    "<br>"
   ]
  },
  {
   "cell_type": "code",
   "execution_count": 3,
   "metadata": {
    "collapsed": false,
    "deletable": true,
    "editable": true,
    "scrolled": false
   },
   "outputs": [],
   "source": [
    "# Extract the movie list length\n",
    "Shape = PostList.shape\n",
    "\n",
    "# Extract the movie id number\n",
    "Ids = PostList.FilmId.values"
   ]
  },
  {
   "cell_type": "code",
   "execution_count": 4,
   "metadata": {
    "collapsed": false,
    "deletable": true,
    "editable": true
   },
   "outputs": [
    {
     "ename": "IOError",
     "evalue": "[Errno 2] No such file or directory: './posters/22924.jpg'",
     "output_type": "error",
     "traceback": [
      "\u001b[0;31m---------------------------------------------------------------------------\u001b[0m",
      "\u001b[0;31mIOError\u001b[0m                                   Traceback (most recent call last)",
      "\u001b[0;32m<ipython-input-4-ffa53a7a7c9a>\u001b[0m in \u001b[0;36m<module>\u001b[0;34m()\u001b[0m\n\u001b[1;32m     15\u001b[0m \u001b[0;34m\u001b[0m\u001b[0m\n\u001b[1;32m     16\u001b[0m     \u001b[0;31m# Open the poster\u001b[0m\u001b[0;34m\u001b[0m\u001b[0;34m\u001b[0m\u001b[0m\n\u001b[0;32m---> 17\u001b[0;31m     \u001b[0mpost\u001b[0m \u001b[0;34m=\u001b[0m \u001b[0mImage\u001b[0m\u001b[0;34m.\u001b[0m\u001b[0mopen\u001b[0m\u001b[0;34m(\u001b[0m\u001b[0mmovie\u001b[0m\u001b[0;34m)\u001b[0m\u001b[0;34m\u001b[0m\u001b[0m\n\u001b[0m\u001b[1;32m     18\u001b[0m \u001b[0;34m\u001b[0m\u001b[0m\n\u001b[1;32m     19\u001b[0m     \u001b[0;31m# Get the movie id\u001b[0m\u001b[0;34m\u001b[0m\u001b[0;34m\u001b[0m\u001b[0m\n",
      "\u001b[0;32m/home/cs109b/.local/lib/python2.7/site-packages/PIL/Image.pyc\u001b[0m in \u001b[0;36mopen\u001b[0;34m(fp, mode)\u001b[0m\n\u001b[1;32m   2408\u001b[0m \u001b[0;34m\u001b[0m\u001b[0m\n\u001b[1;32m   2409\u001b[0m     \u001b[0;32mif\u001b[0m \u001b[0mfilename\u001b[0m\u001b[0;34m:\u001b[0m\u001b[0;34m\u001b[0m\u001b[0m\n\u001b[0;32m-> 2410\u001b[0;31m         \u001b[0mfp\u001b[0m \u001b[0;34m=\u001b[0m \u001b[0mbuiltins\u001b[0m\u001b[0;34m.\u001b[0m\u001b[0mopen\u001b[0m\u001b[0;34m(\u001b[0m\u001b[0mfilename\u001b[0m\u001b[0;34m,\u001b[0m \u001b[0;34m\"rb\"\u001b[0m\u001b[0;34m)\u001b[0m\u001b[0;34m\u001b[0m\u001b[0m\n\u001b[0m\u001b[1;32m   2411\u001b[0m         \u001b[0mexclusive_fp\u001b[0m \u001b[0;34m=\u001b[0m \u001b[0mTrue\u001b[0m\u001b[0;34m\u001b[0m\u001b[0m\n\u001b[1;32m   2412\u001b[0m \u001b[0;34m\u001b[0m\u001b[0m\n",
      "\u001b[0;31mIOError\u001b[0m: [Errno 2] No such file or directory: './posters/22924.jpg'"
     ]
    }
   ],
   "source": [
    "# Open All Movie posters files\n",
    "ImageFile.LOAD_TRUNCATED_IMAGES = True\n",
    "\n",
    "# Initiate the image matrix lis\n",
    "posters_arr_train = []\n",
    "\n",
    "# Initiate the poster object array\n",
    "posters_train = []\n",
    "\n",
    "# Open posters files and transfere them to a fixed dimension thumbnails\n",
    "for i in range(Shape[0]):\n",
    "    \n",
    "    # Define the file name\n",
    "    movie = PostList.iloc[i,1]\n",
    "    \n",
    "    # Open the poster\n",
    "    post = Image.open(movie)\n",
    "    \n",
    "    # Get the movie id\n",
    "    mvid = Ids[i]\n",
    "    \n",
    "    # Adjust the size to the 500 x 750 nominal\n",
    "    post_t = post.crop((0,0,500,500))\n",
    "    \n",
    "    # Transform into a thumbnail\n",
    "    post_t.thumbnail((224,224))\n",
    "    \n",
    "#     Width.append(post_t.size[0])\n",
    "    \n",
    "#     Height.append(post_t.size[1])\n",
    "\n",
    "    # Perfom the channels transformation\n",
    "    post_ar = post_t.convert('RGB')\n",
    "    \n",
    "    # transform into np array\n",
    "    post_array = np.array(post_ar)\n",
    "    \n",
    "    # Specify the thumbnail file name to save it\n",
    "    post_t_fname = './posterst/' + str(mvid) +'_thmb' + '.jpg'\n",
    "    \n",
    "    # Save the thumbnail\n",
    "    post_t.save(post_t_fname , 'JPEG')\n",
    "    \n",
    "    # Construct the decomposed image list\n",
    "    posters_train.append(post_ar)\n",
    "    \n",
    "    # Construct the array image values list\n",
    "    posters_arr_train.append(post_array)\n",
    "    \n",
    "    # Progress display\n",
    "    time.sleep(0.1)\n",
    "    \n",
    "    sys.stdout.flush()\n",
    "    sys.stdout.write(\"\\r Step: {} , id {}\".format(i , mvid))"
   ]
  },
  {
   "cell_type": "code",
   "execution_count": null,
   "metadata": {
    "collapsed": false,
    "deletable": true,
    "editable": true
   },
   "outputs": [],
   "source": [
    "## Create Pickle files:\n",
    "## ===================\n",
    "\n",
    "# A- Numeric Array:\n",
    "# -----------------\n",
    "\n",
    "# Construct a dictionary for the numerical values\n",
    "posters_num_dic = {'images' : posters_arr_train}\n",
    "\n",
    "# Open file and transfer data\n",
    "with open('vgg16_training_num.pik' , 'wb') as f:\n",
    "    \n",
    "    # Dumping the data\n",
    "    pickle.dump(posters_num_dic , f)\n",
    "\n",
    "# close the file\n",
    "f.close()\n",
    "\n",
    "# B- Image Array:\n",
    "# ---------------\n",
    "\n",
    "# Construct a dictionar for the image data\n",
    "posters_im_dic = {'images' : posters_train}\n",
    "\n",
    "# Open a file for the image data\n",
    "with open('vgg16_training_im.pik' , 'wb') as f2:\n",
    "    \n",
    "    # Dumping the data\n",
    "    pickle.dump(posters_im_dic , f2)\n",
    "    \n",
    "# Close the file\n",
    "f2.close()\n",
    "\n",
    "# pickle.dump(posters_dic , 'training.pik')"
   ]
  },
  {
   "cell_type": "code",
   "execution_count": null,
   "metadata": {
    "collapsed": false,
    "deletable": true,
    "editable": true
   },
   "outputs": [],
   "source": []
  },
  {
   "cell_type": "code",
   "execution_count": null,
   "metadata": {
    "collapsed": true,
    "deletable": true,
    "editable": true
   },
   "outputs": [],
   "source": []
  }
 ],
 "metadata": {
  "anaconda-cloud": {},
  "kernelspec": {
   "display_name": "Python [default]",
   "language": "python",
   "name": "python2"
  },
  "language_info": {
   "codemirror_mode": {
    "name": "ipython",
    "version": 2
   },
   "file_extension": ".py",
   "mimetype": "text/x-python",
   "name": "python",
   "nbconvert_exporter": "python",
   "pygments_lexer": "ipython2",
   "version": "2.7.12"
  }
 },
 "nbformat": 4,
 "nbformat_minor": 2
}
